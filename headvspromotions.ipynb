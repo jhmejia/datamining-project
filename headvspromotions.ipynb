{
 "cells": [
  {
   "cell_type": "code",
   "execution_count": 102,
   "metadata": {},
   "outputs": [],
   "source": [
    "# GEt libraries\n",
    "import pandas as pd\n",
    "import numpy as np\n",
    "import matplotlib.pyplot as plt\n"
   ]
  },
  {
   "cell_type": "code",
   "execution_count": 103,
   "metadata": {},
   "outputs": [
    {
     "name": "stdout",
     "output_type": "stream",
     "text": [
      "  c_id  avg_time_in_previous_position  avg_current_position_length  \\\n",
      "0    1                       2.000000                        457.0   \n",
      "1    2                       1.500000                        212.0   \n",
      "2    3                       1.333333                        243.0   \n",
      "3    4                       1.250000                        123.0   \n",
      "4    5                       1.200000                        244.0   \n",
      "\n",
      "   avg_previous_position_length  no_of_promotions  no_of_previous_positions  \\\n",
      "0                        1338.0                 1                         1   \n",
      "1                         897.5                 1                         2   \n",
      "2                         669.0                 1                         3   \n",
      "3                         562.5                 1                         4   \n",
      "4                         474.6                 1                         5   \n",
      "\n",
      "   current_position_length  age  beauty  beauty_female  ...  east_asian  \\\n",
      "0                      457   37   57.57         63.829  ...       87.77   \n",
      "1                      212   37   57.57         63.829  ...       87.77   \n",
      "2                      243   37   57.57         63.829  ...       87.77   \n",
      "3                      123   37   57.57         63.829  ...       87.77   \n",
      "4                      244   37   57.57         63.829  ...       87.77   \n",
      "\n",
      "   european  greek  hispanic  jewish  muslim  nordic  south_asian  \\\n",
      "0      5.27    0.0       0.0     0.0     0.0     0.0          0.0   \n",
      "1      5.27    0.0       0.0     0.0     0.0     0.0          0.0   \n",
      "2      5.27    0.0       0.0     0.0     0.0     0.0          0.0   \n",
      "3      5.27    0.0       0.0     0.0     0.0     0.0          0.0   \n",
      "4      5.27    0.0       0.0     0.0     0.0     0.0          0.0   \n",
      "\n",
      "   n_followers face_quality  \n",
      "0          420       67.662  \n",
      "1          420       67.662  \n",
      "2          420       67.662  \n",
      "3          420       67.662  \n",
      "4          420       67.662  \n",
      "\n",
      "[5 rows x 47 columns]\n"
     ]
    },
    {
     "name": "stderr",
     "output_type": "stream",
     "text": [
      "C:\\Users\\jhm\\AppData\\Local\\Temp\\ipykernel_17960\\2998624788.py:2: DtypeWarning: Columns (0) have mixed types. Specify dtype option on import or set low_memory=False.\n",
      "  dataset = pd.read_csv('LinkedIn Profile Data.csv')\n"
     ]
    }
   ],
   "source": [
    "# Import data\n",
    "dataset = pd.read_csv('LinkedIn Profile Data.csv')\n",
    "print(dataset.head())"
   ]
  },
  {
   "cell_type": "code",
   "execution_count": 104,
   "metadata": {},
   "outputs": [
    {
     "name": "stdout",
     "output_type": "stream",
     "text": [
      "['Asian' 'Black' 'White']\n"
     ]
    }
   ],
   "source": [
    "# Extract the \"ethnicity\" column, the head_pitch, head_yaw, and head_roll columns\n",
    "# and the \"promoted\" column\n",
    "\n",
    "# Remove the last column from the dataset (we do not care about face quality)\n",
    "faceq_column = dataset.columns.get_loc(\"face_quality\")\n",
    "dataset = dataset.iloc[:, :faceq_column]\n",
    "\n",
    "\n",
    "# Remove the first column from the dataset (we do not care about the ID)\n",
    "id_column = dataset.columns.get_loc(\"c_id\")\n",
    "dataset = dataset.iloc[:, id_column+1:]\n",
    "\n",
    "# Remove the \"nationality\" column as it is already represented categorically by the next column\n",
    "nationality_column = dataset.columns.get_loc(\"nationality\")\n",
    "dataset = dataset.drop(dataset.columns[nationality_column], axis=1)\n",
    "\n",
    "\n",
    "# Find the column named \"Glass\"\n",
    "glass_column = dataset.columns.get_loc(\"ethnicity\")\n",
    "# Print the unique values in the \"Glass\" column\n",
    "print(dataset.iloc[:, glass_column].unique())\n",
    "\n",
    "\n",
    "# print all column names\n",
    "# print(dataset.columns)\n",
    "\n",
    "# Encode the \"ethnicity\" column\n",
    "encoded_df = pd.get_dummies(dataset['ethnicity'], prefix='ethnicity')\n",
    "dataset = pd.concat([dataset, encoded_df], axis=1)\n",
    "dataset.drop('ethnicity', axis=1, inplace=True)\n",
    "\n",
    "# Encode the gender column\n",
    "encoded_df = pd.get_dummies(dataset['gender'], prefix='gender')\n",
    "dataset = pd.concat([dataset, encoded_df], axis=1)\n",
    "dataset.drop('gender', axis=1, inplace=True)\n",
    "\n",
    "# Encode the \"glass\" column\n",
    "encoded_df = pd.get_dummies(dataset['glass'], prefix='glass')\n",
    "dataset = pd.concat([dataset, encoded_df], axis=1)\n",
    "dataset.drop('glass', axis=1, inplace=True)\n",
    "\n",
    "\n",
    "\n",
    "n_followers_column = dataset.columns.get_loc(\"n_followers\")\n",
    "dataset = dataset[[c for c in dataset if c not in ['n_followers']] + ['n_followers']]\n",
    "\n",
    "# Remove the rows with the top 10% of followers\n",
    "dataset = dataset[dataset.n_followers < dataset.n_followers.quantile(0.9)]\n",
    "\n",
    "\n"
   ]
  },
  {
   "cell_type": "code",
   "execution_count": 105,
   "metadata": {},
   "outputs": [
    {
     "data": {
      "image/png": "[encoded data removed]",
      "text/plain": [
       "<Figure size 640x480 with 1 Axes>"
      ]
     },
     "metadata": {},
     "output_type": "display_data"
    }
   ],
   "source": [
    "# Split to independent and dependent variables\n",
    "\n",
    "X = dataset.iloc[:, :-1].to_numpy()\n",
    "Y = dataset.iloc[:, -1].to_numpy()\n",
    "\n",
    "\n",
    "# Split the data into training and testing sets\n",
    "from sklearn.model_selection import train_test_split\n",
    "X_train, X_test, Y_train, Y_test = train_test_split(X, Y, test_size = 0.2, random_state = 0)\n",
    "\n",
    "# Scale the data\n",
    "from sklearn.preprocessing import StandardScaler\n",
    "sc = StandardScaler()\n",
    "X_train = sc.fit_transform(X_train)\n",
    "X_test = sc.transform(X_test)\n",
    "\n",
    "# Train the model\n",
    "from sklearn.linear_model import LinearRegression\n",
    "regressor = LinearRegression()\n",
    "regressor.fit(X_train, Y_train)\n",
    "\n",
    "# Predict the test set results\n",
    "Y_pred = regressor.predict(X_test)\n",
    "\n",
    "# Evaluate the model\n",
    "from sklearn.metrics import r2_score\n",
    "r2_score(Y_test, Y_pred)\n",
    "\n",
    "# Visualize ethnicity X_test col vs followers (y_test) vs predicted followers (y_pred)\n",
    "plt.scatter(X_test[:, 0], Y_test, color = 'red')\n",
    "plt.scatter(X_test[:, 0], Y_pred, color = 'blue')\n",
    "\n",
    "plt.show()\n",
    "\n",
    "\n"
   ]
  }
 ],
 "metadata": {
  "kernelspec": {
   "display_name": "Python 3",
   "language": "python",
   "name": "python3"
  },
  "language_info": {
   "codemirror_mode": {
    "name": "ipython",
    "version": 3
   },
   "file_extension": ".py",
   "mimetype": "text/x-python",
   "name": "python",
   "nbconvert_exporter": "python",
   "pygments_lexer": "ipython3",
   "version": "3.10.11"
  },
  "orig_nbformat": 4
 },
 "nbformat": 4,
 "nbformat_minor": 2
}
