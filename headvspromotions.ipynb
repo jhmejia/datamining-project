{
 "cells": [
  {
   "cell_type": "code",
   "execution_count": 4,
   "metadata": {},
   "outputs": [],
   "source": [
    "# GEt libraries\n",
    "import pandas as pd\n",
    "import numpy as np\n",
    "import matplotlib.pyplot as plt\n"
   ]
  },
  {
   "cell_type": "code",
   "execution_count": 5,
   "metadata": {},
   "outputs": [
    {
     "name": "stdout",
     "output_type": "stream",
     "text": [
      "  c_id  avg_time_in_previous_position  avg_current_position_length  \\\n",
      "0    1                       2.000000                        457.0   \n",
      "1    2                       1.500000                        212.0   \n",
      "2    3                       1.333333                        243.0   \n",
      "3    4                       1.250000                        123.0   \n",
      "4    5                       1.200000                        244.0   \n",
      "\n",
      "   avg_previous_position_length                    m_urn  m_urn_id  \\\n",
      "0                        1338.0  urn:li:member:149435456      3008   \n",
      "1                         897.5  urn:li:member:149435456      3008   \n",
      "2                         669.0  urn:li:member:149435456      3008   \n",
      "3                         562.5  urn:li:member:149435456      3008   \n",
      "4                         474.6  urn:li:member:149435456      3008   \n",
      "\n",
      "   no_of_promotions  no_of_previous_positions  current_position_length  age  \\\n",
      "0                 1                         1                      457   37   \n",
      "1                 1                         2                      212   37   \n",
      "2                 1                         3                      243   37   \n",
      "3                 1                         4                      123   37   \n",
      "4                 1                         5                      244   37   \n",
      "\n",
      "   ...  east_asian  european  greek  hispanic  jewish  muslim  nordic  \\\n",
      "0  ...       87.77      5.27    0.0       0.0     0.0     0.0     0.0   \n",
      "1  ...       87.77      5.27    0.0       0.0     0.0     0.0     0.0   \n",
      "2  ...       87.77      5.27    0.0       0.0     0.0     0.0     0.0   \n",
      "3  ...       87.77      5.27    0.0       0.0     0.0     0.0     0.0   \n",
      "4  ...       87.77      5.27    0.0       0.0     0.0     0.0     0.0   \n",
      "\n",
      "   south_asian  n_followers  face_quality  \n",
      "0          0.0          420        67.662  \n",
      "1          0.0          420        67.662  \n",
      "2          0.0          420        67.662  \n",
      "3          0.0          420        67.662  \n",
      "4          0.0          420        67.662  \n",
      "\n",
      "[5 rows x 49 columns]\n"
     ]
    },
    {
     "name": "stderr",
     "output_type": "stream",
     "text": [
      "C:\\Users\\jhm\\AppData\\Local\\Temp\\ipykernel_17960\\2998624788.py:2: DtypeWarning: Columns (0) have mixed types. Specify dtype option on import or set low_memory=False.\n",
      "  dataset = pd.read_csv('LinkedIn Profile Data.csv')\n"
     ]
    }
   ],
   "source": [
    "# Import data\n",
    "dataset = pd.read_csv('LinkedIn Profile Data.csv')\n",
    "print(dataset.head())"
   ]
  },
  {
   "cell_type": "code",
   "execution_count": 7,
   "metadata": {},
   "outputs": [],
   "source": [
    "# Extract the \"ethnicity\" column, the head_pitch, head_yaw, and head_roll columns\n",
    "# and the \"promoted\" column\n",
    "\n",
    "# Remove the last column from the dataset (we do not care about face quality)\n",
    "dataset = dataset.iloc[:, :-1]\n",
    "\n",
    "# Encoding categorical data\n",
    "from sklearn.preprocessing import LabelEncoder, OneHotEncoder\n",
    "labelencoder = LabelEncoder()\n",
    "\n",
    "\n",
    "\n",
    "\n"
   ]
  },
  {
   "cell_type": "code",
   "execution_count": null,
   "metadata": {},
   "outputs": [],
   "source": [
    "# Split to independent and dependent variables\n",
    "\n",
    "X = dataset.iloc[:, :-1].to_numpy()\n",
    "Y = dataset.iloc[:, -1].to_numpy()\n",
    "\n",
    "# Split the data into training and testing sets\n",
    "from sklearn.model_selection import train_test_split\n",
    "X_train, X_test, Y_train, Y_test = train_test_split(X, Y, test_size = 0.2, random_state = 0)"
   ]
  }
 ],
 "metadata": {
  "kernelspec": {
   "display_name": "Python 3",
   "language": "python",
   "name": "python3"
  },
  "language_info": {
   "codemirror_mode": {
    "name": "ipython",
    "version": 3
   },
   "file_extension": ".py",
   "mimetype": "text/x-python",
   "name": "python",
   "nbconvert_exporter": "python",
   "pygments_lexer": "ipython3",
   "version": "3.10.11"
  },
  "orig_nbformat": 4
 },
 "nbformat": 4,
 "nbformat_minor": 2
}
