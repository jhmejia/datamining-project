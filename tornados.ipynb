{
 "cells": [
  {
   "cell_type": "code",
   "execution_count": 6,
   "metadata": {},
   "outputs": [],
   "source": [
    "# # GEt libraries\n",
    "import pandas as pd\n",
    "import numpy as np\n",
    "import matplotlib.pyplot as plt"
   ]
  },
  {
   "cell_type": "code",
   "execution_count": 7,
   "metadata": {},
   "outputs": [],
   "source": [
    "# Import data\n",
    "df = pd.read_csv('us_tornado_dataset_1950_2021.csv')"
   ]
  },
  {
   "cell_type": "code",
   "execution_count": 23,
   "metadata": {},
   "outputs": [
    {
     "data": {
      "text/plain": [
       "Index(['yr', 'mo', 'dy', 'mag', 'inj', 'fat', 'slat', 'slon', 'elat', 'elon',\n",
       "       'len', 'wid', 'st_AK', 'st_AL', 'st_AR', 'st_AZ', 'st_CA', 'st_CO',\n",
       "       'st_CT', 'st_DC', 'st_DE', 'st_FL', 'st_GA', 'st_HI', 'st_IA', 'st_ID',\n",
       "       'st_IL', 'st_IN', 'st_KS', 'st_KY', 'st_LA', 'st_MA', 'st_MD', 'st_ME',\n",
       "       'st_MI', 'st_MN', 'st_MO', 'st_MS', 'st_MT', 'st_NC', 'st_ND', 'st_NE',\n",
       "       'st_NH', 'st_NJ', 'st_NM', 'st_NV', 'st_NY', 'st_OH', 'st_OK', 'st_OR',\n",
       "       'st_PA', 'st_PR', 'st_RI', 'st_SC', 'st_SD', 'st_TN', 'st_TX', 'st_UT',\n",
       "       'st_VA', 'st_VI', 'st_VT', 'st_WA', 'st_WI', 'st_WV', 'st_WY'],\n",
       "      dtype='object')"
      ]
     },
     "execution_count": 23,
     "metadata": {},
     "output_type": "execute_result"
    }
   ],
   "source": [
    "df.head()\n",
    "\n",
    "# pritn all column names\n",
    "df.columns\n",
    "\n",
    "# Wow it's already one-hot-encoded by default! huh thats so cool :D\n",
    "\n",
    "\n",
    "\n"
   ]
  },
  {
   "cell_type": "code",
   "execution_count": 22,
   "metadata": {},
   "outputs": [],
   "source": [
    "\n",
    "# Drop date column since we have year and month\n",
    "df = df.drop(['date'], axis=1)\n",
    "\n"
   ]
  },
  {
   "cell_type": "code",
   "execution_count": 24,
   "metadata": {},
   "outputs": [
    {
     "name": "stdout",
     "output_type": "stream",
     "text": [
      "[[13386     0]\n",
      " [    1   125]]\n"
     ]
    },
    {
     "data": {
      "text/plain": [
       "0.9999259917110717"
      ]
     },
     "execution_count": 24,
     "metadata": {},
     "output_type": "execute_result"
    }
   ],
   "source": [
    "X = df.iloc[:, :-1].to_numpy()\n",
    "Y = df.iloc[:, -1].to_numpy()\n",
    "\n",
    "# Split data into train and test\n",
    "from sklearn.model_selection import train_test_split\n",
    "X_train, X_test, Y_train, Y_test = train_test_split(X, Y, test_size=0.2, random_state=0)\n",
    "\n",
    "# Scale data\n",
    "from sklearn.preprocessing import StandardScaler\n",
    "sc = StandardScaler()\n",
    "X_train = sc.fit_transform(X_train)\n",
    "X_test = sc.transform(X_test)\n",
    "\n",
    "# Train model\n",
    "from sklearn.ensemble import RandomForestClassifier\n",
    "classifier = RandomForestClassifier(n_estimators=100, random_state=0)\n",
    "classifier.fit(X_train, Y_train)\n",
    "\n",
    "# Predict\n",
    "Y_pred = classifier.predict(X_test)\n",
    "\n",
    "# Evaluate\n",
    "from sklearn.metrics import confusion_matrix, accuracy_score\n",
    "cm = confusion_matrix(Y_test, Y_pred)\n",
    "print(cm)\n",
    "accuracy_score(Y_test, Y_pred)\n"
   ]
  }
 ],
 "metadata": {
  "kernelspec": {
   "display_name": "Python 3",
   "language": "python",
   "name": "python3"
  },
  "language_info": {
   "codemirror_mode": {
    "name": "ipython",
    "version": 3
   },
   "file_extension": ".py",
   "mimetype": "text/x-python",
   "name": "python",
   "nbconvert_exporter": "python",
   "pygments_lexer": "ipython3",
   "version": "3.10.11"
  },
  "orig_nbformat": 4
 },
 "nbformat": 4,
 "nbformat_minor": 2
}
